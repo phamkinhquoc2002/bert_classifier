{
 "cells": [
  {
   "cell_type": "code",
   "execution_count": null,
   "id": "d517ecbb",
   "metadata": {},
   "outputs": [],
   "source": [
    "from dataloader import dataset_download\n",
    "\n",
    "dataset_download(path=\"hiuman/vietnamese_classification\")"
   ]
  },
  {
   "cell_type": "code",
   "execution_count": 1,
   "id": "475c3693",
   "metadata": {},
   "outputs": [
    {
     "name": "stderr",
     "output_type": "stream",
     "text": [
      "c:\\Users\\quock\\Downloads\\llama3.2-classifier\\env\\Lib\\site-packages\\tqdm\\auto.py:21: TqdmWarning: IProgress not found. Please update jupyter and ipywidgets. See https://ipywidgets.readthedocs.io/en/stable/user_install.html\n",
      "  from .autonotebook import tqdm as notebook_tqdm\n"
     ]
    }
   ],
   "source": [
    "from datasets import load_dataset\n",
    "\n",
    "train = load_dataset(\"hiuman/vietnamese_classification\", split=\"train\")"
   ]
  },
  {
   "cell_type": "code",
   "execution_count": 6,
   "id": "8b88b341",
   "metadata": {},
   "outputs": [
    {
     "data": {
      "text/plain": [
       "'__label__xuất_bản'"
      ]
     },
     "execution_count": 6,
     "metadata": {},
     "output_type": "execute_result"
    }
   ],
   "source": [
    "train['label'][12]"
   ]
  },
  {
   "cell_type": "code",
   "execution_count": null,
   "id": "3e51d0ce",
   "metadata": {},
   "outputs": [
    {
     "name": "stderr",
     "output_type": "stream",
     "text": [
      "c:\\Users\\quock\\Downloads\\llama3.2-classifier\\env\\Lib\\site-packages\\tqdm\\auto.py:21: TqdmWarning: IProgress not found. Please update jupyter and ipywidgets. See https://ipywidgets.readthedocs.io/en/stable/user_install.html\n",
      "  from .autonotebook import tqdm as notebook_tqdm\n"
     ]
    }
   ],
   "source": [
    "from transformers import AutoTokenizer\n",
    "tokenizer = AutoTokenizer.from_pretrained(\"distilbert/distilgpt2\")"
   ]
  },
  {
   "cell_type": "code",
   "execution_count": 3,
   "id": "be220416",
   "metadata": {},
   "outputs": [
    {
     "name": "stdout",
     "output_type": "stream",
     "text": [
      "False\n",
      "None\n",
      "None\n",
      "PyTorch built with:\n",
      "  - C++ Version: 201703\n",
      "  - MSVC 192930157\n",
      "  - Intel(R) oneAPI Math Kernel Library Version 2025.0.1-Product Build 20241031 for Intel(R) 64 architecture applications\n",
      "  - Intel(R) MKL-DNN v3.5.3 (Git Hash 66f0cb9eb66affd2da3bf5f8d897376f04aae6af)\n",
      "  - OpenMP 2019\n",
      "  - LAPACK is enabled (usually provided by MKL)\n",
      "  - CPU capability usage: AVX2\n",
      "  - Build settings: BLAS_INFO=mkl, BUILD_TYPE=Release, COMMIT_SHA=2236df1770800ffea5697b11b0bb0d910b2e59e1, CXX_COMPILER=C:/actions-runner/_work/pytorch/pytorch/pytorch/.ci/pytorch/windows/tmp_bin/sccache-cl.exe, CXX_FLAGS=/DWIN32 /D_WINDOWS /GR /EHsc /Zc:__cplusplus /bigobj /FS /utf-8 -DUSE_PTHREADPOOL -DNDEBUG -DUSE_KINETO -DLIBKINETO_NOCUPTI -DLIBKINETO_NOROCTRACER -DLIBKINETO_NOXPUPTI=ON -DUSE_FBGEMM -DUSE_XNNPACK -DSYMBOLICATE_MOBILE_DEBUG_HANDLE /wd4624 /wd4068 /wd4067 /wd4267 /wd4661 /wd4717 /wd4244 /wd4804 /wd4273, LAPACK_INFO=mkl, PERF_WITH_AVX=1, PERF_WITH_AVX2=1, TORCH_VERSION=2.6.0, USE_CUDA=0, USE_CUDNN=OFF, USE_CUSPARSELT=OFF, USE_EXCEPTION_PTR=1, USE_GFLAGS=OFF, USE_GLOG=OFF, USE_GLOO=ON, USE_MKL=ON, USE_MKLDNN=ON, USE_MPI=OFF, USE_NCCL=OFF, USE_NNPACK=OFF, USE_OPENMP=ON, USE_ROCM=OFF, USE_ROCM_KERNEL_ASSERT=OFF, \n",
      "\n"
     ]
    }
   ],
   "source": [
    "import torch\n",
    "print(torch.cuda.is_available())\n",
    "print(torch.version.cuda)\n",
    "print(torch.backends.cudnn.version())\n",
    "print(torch.__config__.show())\n"
   ]
  },
  {
   "cell_type": "code",
   "execution_count": null,
   "id": "72016051",
   "metadata": {},
   "outputs": [
    {
     "data": {
      "text/plain": [
       "{'input_ids': [157, 119, 109, 782, 281, 71, 442, 157, 119, 235, 77, 300, 24247, 285, 157, 119, 247, 83, 491, 506, 838, 47748, 157, 118, 123, 77, 62, 2213, 21356, 66, 256, 4669, 157, 119, 229, 83, 62, 85, 157, 119, 251, 72, 299, 71, 157, 118, 98, 83, 491, 25792, 77, 294, 157, 118, 123, 62, 12397, 157, 119, 249, 72, 410, 24247, 78, 23370, 24247, 88, 807, 1105, 5075, 410, 24247, 34754, 239, 26102, 34754, 239, 130, 108, 157, 119, 96, 66, 304, 333, 296, 1419, 1291, 78, 308, 72, 157, 118, 96, 72, 62, 400, 130, 108, 157, 119, 253, 782, 46078, 71, 62, 12397, 6557, 308, 13481, 62, 400, 27083, 782, 491, 506, 479, 13415, 62, 85, 157, 119, 109, 66, 442, 22940, 84, 62, 6557, 294, 6557, 72, 62, 65, 127, 105, 77, 71, 62, 67, 130, 108, 130, 94, 782, 410, 24247, 78, 299, 128, 225, 76, 4793, 8169, 24247, 782, 62, 71, 27083, 77, 491, 25792, 77, 3182, 157, 119, 225, 77, 304, 333, 47562, 479, 5303, 285, 157, 118, 115, 83, 62, 2213, 157, 119, 251, 72, 300, 157, 118, 115, 77, 288, 157, 118, 100, 77, 288, 130, 108, 157, 119, 249, 72, 300, 24247, 77, 299, 130, 108, 157, 119, 249, 66, 2124, 272, 71, 62, 8482, 157, 118, 123, 66, 6184, 94, 77, 71, 62, 82, 6557, 782, 299, 71, 157, 118, 94, 83, 285, 24247, 84, 872, 157, 119, 100, 269, 157, 118, 96, 410, 127, 117, 782, 62, 8482, 157, 119, 225, 77, 304, 333, 47562, 479, 5303, 157, 118, 123, 77, 257, 72, 299, 71, 127, 105, 77, 410, 24247, 78, 269, 129, 102, 782, 275, 157, 119, 241, 72, 62, 71, 157, 119, 241, 72, 2124, 5488, 62, 87, 4669, 157, 118, 123, 77, 269, 10205, 299, 5303, 157, 119, 223, 84, 256, 157, 118, 96, 782, 34754, 239, 6557, 289, 127, 105, 77, 71, 62, 400, 127, 117, 479, 127, 105, 62, 75, 157, 118, 94, 28053, 118, 102, 77, 62, 74, 13415, 157, 118, 98, 83, 491, 506, 479, 13415, 374, 157, 119, 104, 782, 2124, 272, 71, 285, 130, 108, 157, 119, 249, 83, 269, 157, 118, 96, 77, 71, 62, 82, 157, 118, 107, 66, 289, 24247, 72, 62, 71, 127, 110, 64, 299, 71, 130, 108, 285, 157, 119, 247, 83, 275, 157, 119, 102, 66, 289, 157, 119, 235, 64, 294, 72, 25792, 77, 62, 77, 5303, 25792, 77, 28053, 119, 253, 34754, 239, 22940, 88, 7043, 62, 14636, 6557, 354, 269, 10205, 62, 400, 157, 119, 225, 23370, 157, 118, 107, 76, 269, 157, 118, 96, 77, 71, 8169, 24247, 782, 62, 71, 27083, 77, 269, 127, 117, 782, 410, 157, 119, 249, 72, 308, 544, 62, 128, 239, 127, 105, 77, 71, 275, 14064, 62, 65, 157, 118, 94, 77, 410, 24247, 23370, 130, 108, 157, 119, 251, 72, 62, 88, 25792, 84, 275, 2926, 78, 1275, 78, 41569, 285, 25125, 523, 410, 157, 119, 249, 72, 285, 157, 119, 109, 66, 299, 130, 108, 157, 119, 249, 66, 62, 8482, 157, 119, 225, 77, 627, 272, 71, 62, 77, 128, 225, 76, 34754, 239, 130, 108, 157, 119, 96, 66, 275, 5488, 62, 746, 157, 119, 100, 275, 157, 119, 253, 72, 285, 157, 119, 247, 83, 374, 157, 119, 104, 782, 294, 27083, 782, 289, 24247, 782, 491, 128, 225, 76, 299, 128, 225, 76, 62, 28047, 157, 119, 243, 72, 288, 157, 119, 235, 66, 262, 78, 264, 130, 108, 157, 119, 251, 77, 299, 21356, 72, 479, 8873, 157, 118, 96, 782, 767, 13276, 300, 24247, 299, 130, 94, 72, 288, 24247, 77, 71, 1727, 299, 71, 157, 119, 107, 782, 62, 1872, 331, 25792, 84, 294, 8836, 354, 269, 157, 118, 96, 77, 71, 1729, 62, 77, 130, 108, 157, 119, 249, 66, 44081, 27083, 782, 62, 14636, 8836, 299, 130, 94, 72, 299, 24247, 88, 374, 157, 118, 98, 83, 256, 157, 119, 239, 83, 1727, 264, 157, 119, 102, 66, 62, 14636, 157, 119, 237, 68, 289, 130, 94, 77, 62, 77, 157, 119, 107, 64, 44081, 27083, 782, 285, 157, 119, 247, 83, 275, 157, 119, 251, 3182, 157, 119, 225, 77, 299, 24247, 78, 269, 10205, 62, 400, 157, 119, 225, 264, 21162, 71, 275, 157, 118, 109, 782, 410, 157, 118, 119, 34754, 239, 157, 118, 117, 79, 289, 127, 117, 782, 62, 85, 128, 102, 269, 157, 119, 100, 64, 627, 157, 118, 100, 77, 62, 128, 239, 157, 118, 96, 78, 390, 482, 73], 'attention_mask': [1, 1, 1, 1, 1, 1, 1, 1, 1, 1, 1, 1, 1, 1, 1, 1, 1, 1, 1, 1, 1, 1, 1, 1, 1, 1, 1, 1, 1, 1, 1, 1, 1, 1, 1, 1, 1, 1, 1, 1, 1, 1, 1, 1, 1, 1, 1, 1, 1, 1, 1, 1, 1, 1, 1, 1, 1, 1, 1, 1, 1, 1, 1, 1, 1, 1, 1, 1, 1, 1, 1, 1, 1, 1, 1, 1, 1, 1, 1, 1, 1, 1, 1, 1, 1, 1, 1, 1, 1, 1, 1, 1, 1, 1, 1, 1, 1, 1, 1, 1, 1, 1, 1, 1, 1, 1, 1, 1, 1, 1, 1, 1, 1, 1, 1, 1, 1, 1, 1, 1, 1, 1, 1, 1, 1, 1, 1, 1, 1, 1, 1, 1, 1, 1, 1, 1, 1, 1, 1, 1, 1, 1, 1, 1, 1, 1, 1, 1, 1, 1, 1, 1, 1, 1, 1, 1, 1, 1, 1, 1, 1, 1, 1, 1, 1, 1, 1, 1, 1, 1, 1, 1, 1, 1, 1, 1, 1, 1, 1, 1, 1, 1, 1, 1, 1, 1, 1, 1, 1, 1, 1, 1, 1, 1, 1, 1, 1, 1, 1, 1, 1, 1, 1, 1, 1, 1, 1, 1, 1, 1, 1, 1, 1, 1, 1, 1, 1, 1, 1, 1, 1, 1, 1, 1, 1, 1, 1, 1, 1, 1, 1, 1, 1, 1, 1, 1, 1, 1, 1, 1, 1, 1, 1, 1, 1, 1, 1, 1, 1, 1, 1, 1, 1, 1, 1, 1, 1, 1, 1, 1, 1, 1, 1, 1, 1, 1, 1, 1, 1, 1, 1, 1, 1, 1, 1, 1, 1, 1, 1, 1, 1, 1, 1, 1, 1, 1, 1, 1, 1, 1, 1, 1, 1, 1, 1, 1, 1, 1, 1, 1, 1, 1, 1, 1, 1, 1, 1, 1, 1, 1, 1, 1, 1, 1, 1, 1, 1, 1, 1, 1, 1, 1, 1, 1, 1, 1, 1, 1, 1, 1, 1, 1, 1, 1, 1, 1, 1, 1, 1, 1, 1, 1, 1, 1, 1, 1, 1, 1, 1, 1, 1, 1, 1, 1, 1, 1, 1, 1, 1, 1, 1, 1, 1, 1, 1, 1, 1, 1, 1, 1, 1, 1, 1, 1, 1, 1, 1, 1, 1, 1, 1, 1, 1, 1, 1, 1, 1, 1, 1, 1, 1, 1, 1, 1, 1, 1, 1, 1, 1, 1, 1, 1, 1, 1, 1, 1, 1, 1, 1, 1, 1, 1, 1, 1, 1, 1, 1, 1, 1, 1, 1, 1, 1, 1, 1, 1, 1, 1, 1, 1, 1, 1, 1, 1, 1, 1, 1, 1, 1, 1, 1, 1, 1, 1, 1, 1, 1, 1, 1, 1, 1, 1, 1, 1, 1, 1, 1, 1, 1, 1, 1, 1, 1, 1, 1, 1, 1, 1, 1, 1, 1, 1, 1, 1, 1, 1, 1, 1, 1, 1, 1, 1, 1, 1, 1, 1, 1, 1, 1, 1, 1, 1, 1, 1, 1, 1, 1, 1, 1, 1, 1, 1, 1, 1, 1, 1, 1, 1, 1, 1, 1, 1, 1, 1, 1, 1, 1, 1, 1, 1, 1, 1, 1, 1, 1, 1, 1, 1, 1, 1, 1, 1, 1, 1, 1, 1, 1, 1, 1, 1, 1, 1, 1, 1, 1, 1, 1, 1, 1, 1, 1, 1, 1, 1, 1, 1, 1, 1, 1, 1, 1, 1, 1, 1, 1, 1, 1, 1, 1, 1, 1, 1, 1, 1, 1, 1, 1, 1, 1, 1, 1, 1, 1, 1, 1, 1, 1, 1, 1, 1, 1, 1, 1, 1, 1, 1, 1, 1, 1, 1, 1, 1, 1, 1, 1, 1, 1, 1, 1, 1, 1, 1, 1, 1, 1, 1, 1, 1, 1, 1, 1, 1, 1, 1, 1, 1, 1, 1, 1, 1, 1, 1, 1, 1, 1, 1, 1, 1, 1, 1, 1, 1, 1, 1, 1, 1, 1, 1, 1, 1, 1, 1, 1, 1, 1, 1, 1, 1, 1, 1, 1, 1, 1, 1, 1, 1, 1, 1, 1, 1, 1, 1, 1, 1, 1, 1, 1, 1, 1, 1, 1, 1, 1, 1, 1, 1, 1, 1, 1, 1, 1, 1, 1, 1, 1, 1, 1, 1, 1, 1, 1, 1, 1, 1, 1, 1, 1, 1, 1, 1, 1, 1, 1, 1, 1, 1, 1, 1, 1, 1, 1, 1, 1, 1, 1, 1, 1, 1, 1, 1, 1, 1, 1, 1, 1, 1, 1, 1, 1, 1, 1, 1, 1, 1, 1, 1, 1, 1, 1, 1, 1, 1, 1, 1, 1, 1, 1, 1]}"
      ]
     },
     "execution_count": 9,
     "metadata": {},
     "output_type": "execute_result"
    }
   ],
   "source": [
    "tokenizer(\"ựng anh chọn là một trong 10 kiến_trúc tuyệt_vời nhất trên thế_giới vào ngày 8 12 2005 và đã được euromoney trao giải_thưởng danh_giá giao_thông trong khu_vực châu_á thái_bình_dương vào năm 2006 hoàng_hôn trên biển eurwang khi mặt_trời lặn dần dưới làn nước xanh_biếc ánh_sáng nhạt màu phủ cả vùng_biển eurwang khiến ai nhìn vào cũng bồi_hồi xao_xuyến có nhiều tảng đá hình_thù kì_lạ ẩn_khuất trong khu rừng xanh mướt cảnh_sắc hài_hòa như một bức họa thiên_nhiên ở đây du_khách có_thể ngắm cảnh hoàng_hôn cùng với gia_đình bè_bạn và người_yêu bijo cao 292 mét so với mực nước_biển quanh_năm được bao_phủ bởi một rừng thông hàng trăm năm_tuổi dọc theo sườn núi khoảng 7km là nơi dành cho những_ai yêu thích cảnh non_nước không_khí nơi này rất tốt cho sức_khỏe hơn_nữa không một bờ biển nào có_thể sánh bằng vẻ đẹp hùng_vĩ của quần_đảo deokj\", \n",
    "            padding=\"max_length\",truncation=True, )"
   ]
  }
 ],
 "metadata": {
  "kernelspec": {
   "display_name": "env",
   "language": "python",
   "name": "python3"
  },
  "language_info": {
   "codemirror_mode": {
    "name": "ipython",
    "version": 3
   },
   "file_extension": ".py",
   "mimetype": "text/x-python",
   "name": "python",
   "nbconvert_exporter": "python",
   "pygments_lexer": "ipython3",
   "version": "3.11.9"
  }
 },
 "nbformat": 4,
 "nbformat_minor": 5
}
