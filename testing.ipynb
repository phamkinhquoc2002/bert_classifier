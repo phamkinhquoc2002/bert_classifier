{
 "cells": [
  {
   "cell_type": "code",
   "execution_count": 1,
   "id": "475c3693",
   "metadata": {},
   "outputs": [
    {
     "name": "stderr",
     "output_type": "stream",
     "text": [
      "c:\\Users\\quock\\Downloads\\llama3.2-classifier\\env\\Lib\\site-packages\\tqdm\\auto.py:21: TqdmWarning: IProgress not found. Please update jupyter and ipywidgets. See https://ipywidgets.readthedocs.io/en/stable/user_install.html\n",
      "  from .autonotebook import tqdm as notebook_tqdm\n"
     ]
    }
   ],
   "source": [
    "from datasets import load_dataset\n",
    "\n",
    "base_data = load_dataset(\"hiuman/vietnamese_classification\")"
   ]
  },
  {
   "cell_type": "code",
   "execution_count": 2,
   "id": "99e7daff",
   "metadata": {},
   "outputs": [],
   "source": [
    "import dataloader \n",
    "import importlib\n",
    "\n",
    "importlib.reload(dataloader)\n",
    "from dataloader import DataModule\n",
    "\n",
    "data = DataModule(path=\"hiuman/vietnamese_classification\", tokenizer=\"distilbert/distilgpt2\", batch_size=8)"
   ]
  },
  {
   "cell_type": "code",
   "execution_count": 3,
   "id": "c1a6b939",
   "metadata": {},
   "outputs": [
    {
     "name": "stdout",
     "output_type": "stream",
     "text": [
      "\n",
      "Dataset loaded in prepare_data:\n",
      "DatasetDict({\n",
      "    train: Dataset({\n",
      "        features: ['id', 'text', 'label'],\n",
      "        num_rows: 37342\n",
      "    })\n",
      "    test: Dataset({\n",
      "        features: ['id', 'text', 'label'],\n",
      "        num_rows: 9336\n",
      "    })\n",
      "})\n"
     ]
    }
   ],
   "source": [
    "data.prepare_data()"
   ]
  },
  {
   "cell_type": "code",
   "execution_count": 4,
   "id": "9665bf46",
   "metadata": {},
   "outputs": [
    {
     "data": {
      "text/plain": [
       "{'__label__công_nghệ': 0,\n",
       " '__label__du_lịch': 1,\n",
       " '__label__giáo_dục': 2,\n",
       " '__label__giải_trí': 3,\n",
       " '__label__kinh_doanh': 4,\n",
       " '__label__nhịp_sống': 5,\n",
       " '__label__phim_ảnh': 6,\n",
       " '__label__pháp_luật': 7,\n",
       " '__label__sống_trẻ': 8,\n",
       " '__label__sức_khỏe': 9,\n",
       " '__label__thế_giới': 10,\n",
       " '__label__thể_thao': 11,\n",
       " '__label__thời_sự': 12,\n",
       " '__label__thời_trang': 13,\n",
       " '__label__xe_360': 14,\n",
       " '__label__xuất_bản': 15,\n",
       " '__label__âm_nhạc': 16,\n",
       " '__label__ẩm_thực': 17}"
      ]
     },
     "execution_count": 4,
     "metadata": {},
     "output_type": "execute_result"
    }
   ],
   "source": [
    "data.classes_map"
   ]
  },
  {
   "cell_type": "code",
   "execution_count": 5,
   "id": "be286a12",
   "metadata": {},
   "outputs": [
    {
     "name": "stdout",
     "output_type": "stream",
     "text": [
      "\n",
      "Inside setup function:\n",
      "self.dataset: DatasetDict({\n",
      "    train: Dataset({\n",
      "        features: ['id', 'text', 'label'],\n",
      "        num_rows: 37342\n",
      "    })\n",
      "    test: Dataset({\n",
      "        features: ['id', 'text', 'label'],\n",
      "        num_rows: 9336\n",
      "    })\n",
      "})\n",
      "Using existing train and test splits.\n",
      "self.train_data (before map): Dataset({\n",
      "    features: ['id', 'text', 'label'],\n",
      "    num_rows: 37342\n",
      "})\n",
      "self.validation_data (before map): Dataset({\n",
      "    features: ['id', 'text', 'label'],\n",
      "    num_rows: 9336\n",
      "})\n"
     ]
    },
    {
     "name": "stderr",
     "output_type": "stream",
     "text": [
      "Map: 100%|██████████| 37342/37342 [13:22<00:00, 46.53 examples/s]\n",
      "Map: 100%|██████████| 9336/9336 [00:03<00:00, 2397.59 examples/s]\n",
      "Map: 100%|██████████| 9336/9336 [03:57<00:00, 39.36 examples/s]"
     ]
    },
    {
     "name": "stdout",
     "output_type": "stream",
     "text": [
      "self.validation_data (after map): Dataset({\n",
      "    features: ['id', 'label', 'input_ids', 'attention_mask'],\n",
      "    num_rows: 9336\n",
      "})\n",
      "self.validation_data (after set_format): Dataset({\n",
      "    features: ['id', 'label', 'input_ids', 'attention_mask'],\n",
      "    num_rows: 9336\n",
      "})\n"
     ]
    },
    {
     "name": "stderr",
     "output_type": "stream",
     "text": [
      "\n"
     ]
    }
   ],
   "source": [
    "data.setup(stage=\"fit\")"
   ]
  }
 ],
 "metadata": {
  "kernelspec": {
   "display_name": "env",
   "language": "python",
   "name": "python3"
  },
  "language_info": {
   "codemirror_mode": {
    "name": "ipython",
    "version": 3
   },
   "file_extension": ".py",
   "mimetype": "text/x-python",
   "name": "python",
   "nbconvert_exporter": "python",
   "pygments_lexer": "ipython3",
   "version": "3.11.9"
  }
 },
 "nbformat": 4,
 "nbformat_minor": 5
}
