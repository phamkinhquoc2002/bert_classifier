{
 "cells": [
  {
   "cell_type": "code",
   "execution_count": null,
   "id": "475c3693",
   "metadata": {},
   "outputs": [],
   "source": [
    "from datasets import load_dataset\n",
    "\n",
    "base_data = load_dataset(\"hiuman/vietnamese_classification\")"
   ]
  },
  {
   "cell_type": "code",
   "execution_count": null,
   "id": "99e7daff",
   "metadata": {},
   "outputs": [],
   "source": [
    "import dataloader \n",
    "import importlib\n",
    "\n",
    "importlib.reload(dataloader)\n",
    "from dataloader import DataModule\n",
    "\n",
    "data = DataModule(path=\"hiuman/vietnamese_classification\", tokenizer=\"distilbert/distilgpt2\", batch_size=8)"
   ]
  },
  {
   "cell_type": "code",
   "execution_count": null,
   "id": "c1a6b939",
   "metadata": {},
   "outputs": [],
   "source": [
    "data.prepare_data()"
   ]
  },
  {
   "cell_type": "code",
   "execution_count": null,
   "id": "9665bf46",
   "metadata": {},
   "outputs": [],
   "source": [
    "data.classes_map"
   ]
  },
  {
   "cell_type": "code",
   "execution_count": null,
   "id": "a21bf24b",
   "metadata": {},
   "outputs": [],
   "source": [
    "data.setup(stage=\"fit\")"
   ]
  },
  {
   "cell_type": "code",
   "execution_count": null,
   "id": "4378d32c",
   "metadata": {},
   "outputs": [],
   "source": [
    "type(data.validation_data[\"input_ids\"])"
   ]
  },
  {
   "cell_type": "code",
   "execution_count": null,
   "id": "be286a12",
   "metadata": {},
   "outputs": [],
   "source": [
    "base_data"
   ]
  }
 ],
 "metadata": {
  "kernelspec": {
   "display_name": "env",
   "language": "python",
   "name": "python3"
  },
  "language_info": {
   "codemirror_mode": {
    "name": "ipython",
    "version": 3
   },
   "file_extension": ".py",
   "mimetype": "text/x-python",
   "name": "python",
   "nbconvert_exporter": "python",
   "pygments_lexer": "ipython3",
   "version": "3.11.9"
  }
 },
 "nbformat": 4,
 "nbformat_minor": 5
}
